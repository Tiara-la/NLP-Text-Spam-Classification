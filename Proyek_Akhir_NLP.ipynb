{
  "nbformat": 4,
  "nbformat_minor": 0,
  "metadata": {
    "colab": {
      "name": "Proyek Akhir NLP.ipynb",
      "provenance": []
    },
    "kernelspec": {
      "name": "python3",
      "display_name": "Python 3"
    },
    "language_info": {
      "name": "python"
    }
  },
  "cells": [
    {
      "cell_type": "markdown",
      "metadata": {
        "id": "xLWPh5FH2k9d"
      },
      "source": [
        "Nama : Tiara Lailatul Nikmah  \n",
        "User Name : Tiara Laila  \n",
        "Email : tiaralaila21@gmail.com  \n",
        "No Telepon : 089635924667  \n",
        "Asal Kota : Juwana,Pati"
      ]
    },
    {
      "cell_type": "code",
      "metadata": {
        "id": "GABHGzdJEan_"
      },
      "source": [
        "import pandas as pd\n",
        "df = pd.read_csv('SPAM text message.csv')"
      ],
      "execution_count": 1,
      "outputs": []
    },
    {
      "cell_type": "code",
      "metadata": {
        "colab": {
          "base_uri": "https://localhost:8080/",
          "height": 206
        },
        "id": "Zsi_6C-8r9S1",
        "outputId": "6459e413-5018-45d2-d498-b40df748c4cd"
      },
      "source": [
        "df.head()"
      ],
      "execution_count": 2,
      "outputs": [
        {
          "output_type": "execute_result",
          "data": {
            "text/html": [
              "<div>\n",
              "<style scoped>\n",
              "    .dataframe tbody tr th:only-of-type {\n",
              "        vertical-align: middle;\n",
              "    }\n",
              "\n",
              "    .dataframe tbody tr th {\n",
              "        vertical-align: top;\n",
              "    }\n",
              "\n",
              "    .dataframe thead th {\n",
              "        text-align: right;\n",
              "    }\n",
              "</style>\n",
              "<table border=\"1\" class=\"dataframe\">\n",
              "  <thead>\n",
              "    <tr style=\"text-align: right;\">\n",
              "      <th></th>\n",
              "      <th>Category</th>\n",
              "      <th>Message</th>\n",
              "    </tr>\n",
              "  </thead>\n",
              "  <tbody>\n",
              "    <tr>\n",
              "      <th>0</th>\n",
              "      <td>ham</td>\n",
              "      <td>Go until jurong point, crazy.. Available only ...</td>\n",
              "    </tr>\n",
              "    <tr>\n",
              "      <th>1</th>\n",
              "      <td>ham</td>\n",
              "      <td>Ok lar... Joking wif u oni...</td>\n",
              "    </tr>\n",
              "    <tr>\n",
              "      <th>2</th>\n",
              "      <td>spam</td>\n",
              "      <td>Free entry in 2 a wkly comp to win FA Cup fina...</td>\n",
              "    </tr>\n",
              "    <tr>\n",
              "      <th>3</th>\n",
              "      <td>ham</td>\n",
              "      <td>U dun say so early hor... U c already then say...</td>\n",
              "    </tr>\n",
              "    <tr>\n",
              "      <th>4</th>\n",
              "      <td>ham</td>\n",
              "      <td>Nah I don't think he goes to usf, he lives aro...</td>\n",
              "    </tr>\n",
              "  </tbody>\n",
              "</table>\n",
              "</div>"
            ],
            "text/plain": [
              "  Category                                            Message\n",
              "0      ham  Go until jurong point, crazy.. Available only ...\n",
              "1      ham                      Ok lar... Joking wif u oni...\n",
              "2     spam  Free entry in 2 a wkly comp to win FA Cup fina...\n",
              "3      ham  U dun say so early hor... U c already then say...\n",
              "4      ham  Nah I don't think he goes to usf, he lives aro..."
            ]
          },
          "metadata": {},
          "execution_count": 2
        }
      ]
    },
    {
      "cell_type": "code",
      "metadata": {
        "id": "BthIjQkTEjS8"
      },
      "source": [
        "# melakukan proses one-hot-encoding karena \"label\" berupa data kategorikal\n",
        "category = pd.get_dummies(df.Category)\n",
        "df_baru = pd.concat([df, category], axis=1)"
      ],
      "execution_count": 3,
      "outputs": []
    },
    {
      "cell_type": "code",
      "metadata": {
        "colab": {
          "base_uri": "https://localhost:8080/"
        },
        "id": "d_z1R0a-EqrR",
        "outputId": "dd2a7fb5-803e-4ac7-c4b7-4df1c00da9a3"
      },
      "source": [
        "df_baru.info()"
      ],
      "execution_count": 4,
      "outputs": [
        {
          "output_type": "stream",
          "name": "stdout",
          "text": [
            "<class 'pandas.core.frame.DataFrame'>\n",
            "RangeIndex: 5572 entries, 0 to 5571\n",
            "Data columns (total 4 columns):\n",
            " #   Column    Non-Null Count  Dtype \n",
            "---  ------    --------------  ----- \n",
            " 0   Category  5572 non-null   object\n",
            " 1   Message   5572 non-null   object\n",
            " 2   ham       5572 non-null   uint8 \n",
            " 3   spam      5572 non-null   uint8 \n",
            "dtypes: object(2), uint8(2)\n",
            "memory usage: 98.1+ KB\n"
          ]
        }
      ]
    },
    {
      "cell_type": "code",
      "metadata": {
        "colab": {
          "base_uri": "https://localhost:8080/",
          "height": 423
        },
        "id": "44OVvRIusLcX",
        "outputId": "66642d68-9e9d-4a7f-b8f7-cc621fd4bb1d"
      },
      "source": [
        "# mengubah nilai-nilai dari dataframe ke dalam tipe data numpy array menggunakan atribut values\n",
        "pesan = df_baru['Message'].values\n",
        "label = df_baru[['ham', 'spam']].values\n",
        "df_baru = df_baru.drop(columns='Category')\n",
        "df_baru\n"
      ],
      "execution_count": 5,
      "outputs": [
        {
          "output_type": "execute_result",
          "data": {
            "text/html": [
              "<div>\n",
              "<style scoped>\n",
              "    .dataframe tbody tr th:only-of-type {\n",
              "        vertical-align: middle;\n",
              "    }\n",
              "\n",
              "    .dataframe tbody tr th {\n",
              "        vertical-align: top;\n",
              "    }\n",
              "\n",
              "    .dataframe thead th {\n",
              "        text-align: right;\n",
              "    }\n",
              "</style>\n",
              "<table border=\"1\" class=\"dataframe\">\n",
              "  <thead>\n",
              "    <tr style=\"text-align: right;\">\n",
              "      <th></th>\n",
              "      <th>Message</th>\n",
              "      <th>ham</th>\n",
              "      <th>spam</th>\n",
              "    </tr>\n",
              "  </thead>\n",
              "  <tbody>\n",
              "    <tr>\n",
              "      <th>0</th>\n",
              "      <td>Go until jurong point, crazy.. Available only ...</td>\n",
              "      <td>1</td>\n",
              "      <td>0</td>\n",
              "    </tr>\n",
              "    <tr>\n",
              "      <th>1</th>\n",
              "      <td>Ok lar... Joking wif u oni...</td>\n",
              "      <td>1</td>\n",
              "      <td>0</td>\n",
              "    </tr>\n",
              "    <tr>\n",
              "      <th>2</th>\n",
              "      <td>Free entry in 2 a wkly comp to win FA Cup fina...</td>\n",
              "      <td>0</td>\n",
              "      <td>1</td>\n",
              "    </tr>\n",
              "    <tr>\n",
              "      <th>3</th>\n",
              "      <td>U dun say so early hor... U c already then say...</td>\n",
              "      <td>1</td>\n",
              "      <td>0</td>\n",
              "    </tr>\n",
              "    <tr>\n",
              "      <th>4</th>\n",
              "      <td>Nah I don't think he goes to usf, he lives aro...</td>\n",
              "      <td>1</td>\n",
              "      <td>0</td>\n",
              "    </tr>\n",
              "    <tr>\n",
              "      <th>...</th>\n",
              "      <td>...</td>\n",
              "      <td>...</td>\n",
              "      <td>...</td>\n",
              "    </tr>\n",
              "    <tr>\n",
              "      <th>5567</th>\n",
              "      <td>This is the 2nd time we have tried 2 contact u...</td>\n",
              "      <td>0</td>\n",
              "      <td>1</td>\n",
              "    </tr>\n",
              "    <tr>\n",
              "      <th>5568</th>\n",
              "      <td>Will ü b going to esplanade fr home?</td>\n",
              "      <td>1</td>\n",
              "      <td>0</td>\n",
              "    </tr>\n",
              "    <tr>\n",
              "      <th>5569</th>\n",
              "      <td>Pity, * was in mood for that. So...any other s...</td>\n",
              "      <td>1</td>\n",
              "      <td>0</td>\n",
              "    </tr>\n",
              "    <tr>\n",
              "      <th>5570</th>\n",
              "      <td>The guy did some bitching but I acted like i'd...</td>\n",
              "      <td>1</td>\n",
              "      <td>0</td>\n",
              "    </tr>\n",
              "    <tr>\n",
              "      <th>5571</th>\n",
              "      <td>Rofl. Its true to its name</td>\n",
              "      <td>1</td>\n",
              "      <td>0</td>\n",
              "    </tr>\n",
              "  </tbody>\n",
              "</table>\n",
              "<p>5572 rows × 3 columns</p>\n",
              "</div>"
            ],
            "text/plain": [
              "                                                Message  ham  spam\n",
              "0     Go until jurong point, crazy.. Available only ...    1     0\n",
              "1                         Ok lar... Joking wif u oni...    1     0\n",
              "2     Free entry in 2 a wkly comp to win FA Cup fina...    0     1\n",
              "3     U dun say so early hor... U c already then say...    1     0\n",
              "4     Nah I don't think he goes to usf, he lives aro...    1     0\n",
              "...                                                 ...  ...   ...\n",
              "5567  This is the 2nd time we have tried 2 contact u...    0     1\n",
              "5568               Will ü b going to esplanade fr home?    1     0\n",
              "5569  Pity, * was in mood for that. So...any other s...    1     0\n",
              "5570  The guy did some bitching but I acted like i'd...    1     0\n",
              "5571                         Rofl. Its true to its name    1     0\n",
              "\n",
              "[5572 rows x 3 columns]"
            ]
          },
          "metadata": {},
          "execution_count": 5
        }
      ]
    },
    {
      "cell_type": "code",
      "metadata": {
        "id": "1UmTccAFtOHd"
      },
      "source": [
        "# bagi data untuk training dan data untuk testing\n",
        "from sklearn.model_selection import train_test_split\n",
        "pesan_latih, pesan_test, label_latih, label_test = train_test_split(pesan, label, test_size=0.2)\n"
      ],
      "execution_count": 6,
      "outputs": []
    },
    {
      "cell_type": "code",
      "metadata": {
        "id": "ZqRUzlHRtV5J"
      },
      "source": [
        "#  ubah setiap kata pada dataset ke dalam bilangan numerik dengan fungsi Tokenizer\n",
        "from tensorflow.keras.preprocessing.text import Tokenizer\n",
        "from tensorflow.keras.preprocessing.sequence import pad_sequences\n",
        " \n",
        "tokenizer = Tokenizer(num_words=5000, oov_token='x')\n",
        "tokenizer.fit_on_texts(pesan_latih) \n",
        "tokenizer.fit_on_texts(pesan_test)\n",
        "\n",
        "\n",
        "# mengonversi setiap sampel menjadi sequence \n",
        "sekuens_latih = tokenizer.texts_to_sequences(pesan_latih)\n",
        "sekuens_test = tokenizer.texts_to_sequences(pesan_test)\n",
        " \n",
        "padded_latih = pad_sequences(sekuens_latih) \n",
        "padded_test = pad_sequences(sekuens_test)"
      ],
      "execution_count": 7,
      "outputs": []
    },
    {
      "cell_type": "code",
      "metadata": {
        "colab": {
          "base_uri": "https://localhost:8080/"
        },
        "id": "slGjaG46tlPt",
        "outputId": "1772aa03-02dd-4433-d18d-f2ac52c76fc0"
      },
      "source": [
        "#  menggunakan layer Embedding dengan dimensi embedding sebesar 16\n",
        "# dimensi dari input sebesar nilai num_words pada objek tokenizer\n",
        "\n",
        "import tensorflow as tf\n",
        "model = tf.keras.Sequential([\n",
        "    tf.keras.layers.Embedding(input_dim=5000, output_dim=16),\n",
        "    tf.keras.layers.Bidirectional(tf.keras.layers.LSTM(64, return_sequences=True)),\n",
        "    tf.keras.layers.GlobalMaxPooling1D(),\n",
        "    tf.keras.layers.Dense(512, activation='relu'),\n",
        "    tf.keras.layers.Dropout(0.2),\n",
        "    tf.keras.layers.Dense(256, activation='relu'),              # hiden layer 1\n",
        "    tf.keras.layers.Dropout(0.2),\n",
        "    tf.keras.layers.Dense(128, activation='relu'),               # hiden layer 2\n",
        "    tf.keras.layers.Dropout(0.2),\n",
        "    tf.keras.layers.Dense(2, activation='softmax')\n",
        "])\n",
        "\n",
        "\n",
        "# panggil fungsi compile dan tentukan optimizer serta loss function\n",
        "model.compile(loss='categorical_crossentropy',optimizer='adam',metrics=['accuracy'])\n",
        "\n",
        "model.summary()"
      ],
      "execution_count": 8,
      "outputs": [
        {
          "output_type": "stream",
          "name": "stdout",
          "text": [
            "Model: \"sequential\"\n",
            "_________________________________________________________________\n",
            "Layer (type)                 Output Shape              Param #   \n",
            "=================================================================\n",
            "embedding (Embedding)        (None, None, 16)          80000     \n",
            "_________________________________________________________________\n",
            "bidirectional (Bidirectional (None, None, 128)         41472     \n",
            "_________________________________________________________________\n",
            "global_max_pooling1d (Global (None, 128)               0         \n",
            "_________________________________________________________________\n",
            "dense (Dense)                (None, 512)               66048     \n",
            "_________________________________________________________________\n",
            "dropout (Dropout)            (None, 512)               0         \n",
            "_________________________________________________________________\n",
            "dense_1 (Dense)              (None, 256)               131328    \n",
            "_________________________________________________________________\n",
            "dropout_1 (Dropout)          (None, 256)               0         \n",
            "_________________________________________________________________\n",
            "dense_2 (Dense)              (None, 128)               32896     \n",
            "_________________________________________________________________\n",
            "dropout_2 (Dropout)          (None, 128)               0         \n",
            "_________________________________________________________________\n",
            "dense_3 (Dense)              (None, 2)                 258       \n",
            "=================================================================\n",
            "Total params: 352,002\n",
            "Trainable params: 352,002\n",
            "Non-trainable params: 0\n",
            "_________________________________________________________________\n"
          ]
        }
      ]
    },
    {
      "cell_type": "code",
      "metadata": {
        "id": "6vU-ky1jt4Ws"
      },
      "source": [
        "# fungsi callback untuk menghentikan epoch apabila akurasi sudah mencapai 98%\n",
        "class toCallback(tf.keras.callbacks.Callback): \n",
        "  def on_epoch_end(self, epoch, logs={}):\n",
        "    if(logs.get('val_accuracy')>0.98 and logs.get('accuracy')==1.00):\n",
        "      print(\"Proses Training Berhenti, Tingkat Akurasi Sudah Lebih Dari 98%\")\n",
        "      self.model.stop_training = True\n",
        "\n",
        "callbacks= toCallback()"
      ],
      "execution_count": 9,
      "outputs": []
    },
    {
      "cell_type": "code",
      "metadata": {
        "colab": {
          "base_uri": "https://localhost:8080/"
        },
        "id": "XhhJh_XUt_RE",
        "outputId": "b637c4f6-d25c-4757-b51e-3f20d0498421"
      },
      "source": [
        "# mulai melatih model dengan memanggil fungsi fit()\n",
        "num_epochs = 30\n",
        "latih = model.fit(padded_latih, label_latih, epochs=num_epochs, batch_size=256,\n",
        "                  validation_data=(padded_test, label_test), verbose=2, \n",
        "                  callbacks=[callbacks]) # memanggil fungsi callback"
      ],
      "execution_count": 10,
      "outputs": [
        {
          "output_type": "stream",
          "name": "stdout",
          "text": [
            "Epoch 1/30\n",
            "18/18 - 33s - loss: 0.5186 - accuracy: 0.8313 - val_loss: 0.3996 - val_accuracy: 0.8700\n",
            "Epoch 2/30\n",
            "18/18 - 15s - loss: 0.3927 - accuracy: 0.8649 - val_loss: 0.3519 - val_accuracy: 0.8700\n",
            "Epoch 3/30\n",
            "18/18 - 15s - loss: 0.2822 - accuracy: 0.8649 - val_loss: 0.1872 - val_accuracy: 0.8700\n",
            "Epoch 4/30\n",
            "18/18 - 15s - loss: 0.1355 - accuracy: 0.9186 - val_loss: 0.1243 - val_accuracy: 0.9839\n",
            "Epoch 5/30\n",
            "18/18 - 16s - loss: 0.0335 - accuracy: 0.9933 - val_loss: 0.0835 - val_accuracy: 0.9857\n",
            "Epoch 6/30\n",
            "18/18 - 16s - loss: 0.0143 - accuracy: 0.9955 - val_loss: 0.0849 - val_accuracy: 0.9874\n",
            "Epoch 7/30\n",
            "18/18 - 15s - loss: 0.0060 - accuracy: 0.9980 - val_loss: 0.0881 - val_accuracy: 0.9874\n",
            "Epoch 8/30\n",
            "18/18 - 17s - loss: 0.0029 - accuracy: 0.9991 - val_loss: 0.0727 - val_accuracy: 0.9857\n",
            "Epoch 9/30\n",
            "18/18 - 16s - loss: 0.0015 - accuracy: 0.9996 - val_loss: 0.0762 - val_accuracy: 0.9883\n",
            "Epoch 10/30\n",
            "18/18 - 15s - loss: 0.0013 - accuracy: 0.9996 - val_loss: 0.0816 - val_accuracy: 0.9883\n",
            "Epoch 11/30\n",
            "18/18 - 16s - loss: 0.0010 - accuracy: 0.9998 - val_loss: 0.0819 - val_accuracy: 0.9839\n",
            "Epoch 12/30\n",
            "18/18 - 15s - loss: 8.8283e-04 - accuracy: 0.9998 - val_loss: 0.0847 - val_accuracy: 0.9839\n",
            "Epoch 13/30\n",
            "18/18 - 15s - loss: 7.0492e-04 - accuracy: 0.9998 - val_loss: 0.0905 - val_accuracy: 0.9883\n",
            "Epoch 14/30\n",
            "18/18 - 14s - loss: 6.9220e-04 - accuracy: 0.9998 - val_loss: 0.0920 - val_accuracy: 0.9865\n",
            "Epoch 15/30\n",
            "18/18 - 15s - loss: 2.9109e-04 - accuracy: 1.0000 - val_loss: 0.0962 - val_accuracy: 0.9839\n",
            "Proses Training Berhenti, Tingkat Akurasi Sudah Lebih Dari 98%\n"
          ]
        }
      ]
    },
    {
      "cell_type": "code",
      "metadata": {
        "colab": {
          "base_uri": "https://localhost:8080/",
          "height": 608
        },
        "id": "wq-0mHT0yVmZ",
        "outputId": "4050cb82-c2a3-4e22-8972-3a8c712df973"
      },
      "source": [
        "# membuat grafik akurasi data training dan validasi\n",
        "import matplotlib.pyplot as plt\n",
        "\n",
        "akurasi = latih.history['accuracy']\n",
        "val_akurasi = latih.history['val_accuracy']\n",
        "loss = latih.history['loss']\n",
        "val_loss = latih.history['val_loss']\n",
        "\n",
        "epoch_range = range(len(akurasi))\n",
        "\n",
        "plt.plot(epoch_range, akurasi, label='Training accuracy')\n",
        "plt.plot(epoch_range, val_akurasi, label='Validation accuracy')\n",
        "plt.title('Grafik akurasi training dan validasi')\n",
        "plt.ylabel('accuracy')\n",
        "plt.xlabel('epoch')\n",
        "plt.legend(loc=0)\n",
        "plt.figure()\n",
        "plt.show()\n",
        "\n",
        "plt.plot(epoch_range, loss, label='Training loss')\n",
        "plt.plot(epoch_range, val_loss, label='Validation loss')\n",
        "plt.title('Grafik error training dan validasi')\n",
        "plt.ylabel('loss')\n",
        "plt.xlabel('epoch')\n",
        "plt.legend(loc=0)\n",
        "plt.figure()\n",
        "plt.show()"
      ],
      "execution_count": 11,
      "outputs": [
        {
          "output_type": "display_data",
          "data": {
            "image/png": "[encoded data removed]",
            "text/plain": [
              "<Figure size 432x288 with 1 Axes>"
            ]
          },
          "metadata": {
            "needs_background": "light"
          }
        },
        {
          "output_type": "display_data",
          "data": {
            "text/plain": [
              "<Figure size 432x288 with 0 Axes>"
            ]
          },
          "metadata": {}
        },
        {
          "output_type": "display_data",
          "data": {
            "image/png": "[encoded data removed]",
            "text/plain": [
              "<Figure size 432x288 with 1 Axes>"
            ]
          },
          "metadata": {
            "needs_background": "light"
          }
        },
        {
          "output_type": "display_data",
          "data": {
            "text/plain": [
              "<Figure size 432x288 with 0 Axes>"
            ]
          },
          "metadata": {}
        }
      ]
    }
  ]
}